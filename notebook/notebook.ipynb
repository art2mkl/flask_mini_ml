{
 "cells": [
  {
   "cell_type": "markdown",
   "metadata": {},
   "source": [
    "# Imports"
   ]
  },
  {
   "cell_type": "code",
   "execution_count": 1,
   "metadata": {
    "ExecuteTime": {
     "end_time": "2021-12-09T08:58:04.386556Z",
     "start_time": "2021-12-09T08:57:59.672003Z"
    }
   },
   "outputs": [],
   "source": [
    "from sklearn.datasets import load_wine\n",
    "import pandas as pd\n",
    "import numpy as np\n",
    "import os\n",
    "\n",
    "from sklearn.pipeline import make_pipeline\n",
    "from sklearn.compose import make_column_transformer\n",
    "from sklearn.preprocessing import StandardScaler\n",
    "\n",
    "from sklearn.linear_model import SGDClassifier, LogisticRegression\n",
    "\n",
    "from sklearn.model_selection import train_test_split, GridSearchCV, cross_val_score\n",
    "\n",
    "from sklearn.metrics import confusion_matrix, accuracy_score, precision_score\n",
    "from sklearn.ensemble import StackingClassifier, RandomForestClassifier, GradientBoostingClassifier, AdaBoostClassifier\n",
    "from sklearn.svm import LinearSVC\n",
    "from sklearn.neighbors import KNeighborsClassifier\n",
    "\n",
    "\n",
    "from sklearn.naive_bayes import GaussianNB\n",
    "\n",
    "import joblib\n",
    "from joblib import dump, load"
   ]
  },
  {
   "cell_type": "markdown",
   "metadata": {},
   "source": [
    "# Creation du Dataset"
   ]
  },
  {
   "cell_type": "code",
   "execution_count": 2,
   "metadata": {
    "ExecuteTime": {
     "end_time": "2021-12-09T08:58:04.481944Z",
     "start_time": "2021-12-09T08:58:04.390856Z"
    }
   },
   "outputs": [
    {
     "data": {
      "text/html": [
       "<div>\n",
       "<style scoped>\n",
       "    .dataframe tbody tr th:only-of-type {\n",
       "        vertical-align: middle;\n",
       "    }\n",
       "\n",
       "    .dataframe tbody tr th {\n",
       "        vertical-align: top;\n",
       "    }\n",
       "\n",
       "    .dataframe thead th {\n",
       "        text-align: right;\n",
       "    }\n",
       "</style>\n",
       "<table border=\"1\" class=\"dataframe\">\n",
       "  <thead>\n",
       "    <tr style=\"text-align: right;\">\n",
       "      <th></th>\n",
       "      <th>alcohol</th>\n",
       "      <th>malic_acid</th>\n",
       "      <th>ash</th>\n",
       "      <th>alcalinity_of_ash</th>\n",
       "      <th>magnesium</th>\n",
       "      <th>total_phenols</th>\n",
       "      <th>flavanoids</th>\n",
       "      <th>nonflavanoid_phenols</th>\n",
       "      <th>proanthocyanins</th>\n",
       "      <th>color_intensity</th>\n",
       "      <th>hue</th>\n",
       "      <th>od280/od315_of_diluted_wines</th>\n",
       "      <th>proline</th>\n",
       "      <th>target</th>\n",
       "    </tr>\n",
       "  </thead>\n",
       "  <tbody>\n",
       "    <tr>\n",
       "      <th>0</th>\n",
       "      <td>14.23</td>\n",
       "      <td>1.71</td>\n",
       "      <td>2.43</td>\n",
       "      <td>15.6</td>\n",
       "      <td>127.0</td>\n",
       "      <td>2.80</td>\n",
       "      <td>3.06</td>\n",
       "      <td>0.28</td>\n",
       "      <td>2.29</td>\n",
       "      <td>5.64</td>\n",
       "      <td>1.04</td>\n",
       "      <td>3.92</td>\n",
       "      <td>1065.0</td>\n",
       "      <td>0.0</td>\n",
       "    </tr>\n",
       "    <tr>\n",
       "      <th>1</th>\n",
       "      <td>13.20</td>\n",
       "      <td>1.78</td>\n",
       "      <td>2.14</td>\n",
       "      <td>11.2</td>\n",
       "      <td>100.0</td>\n",
       "      <td>2.65</td>\n",
       "      <td>2.76</td>\n",
       "      <td>0.26</td>\n",
       "      <td>1.28</td>\n",
       "      <td>4.38</td>\n",
       "      <td>1.05</td>\n",
       "      <td>3.40</td>\n",
       "      <td>1050.0</td>\n",
       "      <td>0.0</td>\n",
       "    </tr>\n",
       "    <tr>\n",
       "      <th>2</th>\n",
       "      <td>13.16</td>\n",
       "      <td>2.36</td>\n",
       "      <td>2.67</td>\n",
       "      <td>18.6</td>\n",
       "      <td>101.0</td>\n",
       "      <td>2.80</td>\n",
       "      <td>3.24</td>\n",
       "      <td>0.30</td>\n",
       "      <td>2.81</td>\n",
       "      <td>5.68</td>\n",
       "      <td>1.03</td>\n",
       "      <td>3.17</td>\n",
       "      <td>1185.0</td>\n",
       "      <td>0.0</td>\n",
       "    </tr>\n",
       "    <tr>\n",
       "      <th>3</th>\n",
       "      <td>14.37</td>\n",
       "      <td>1.95</td>\n",
       "      <td>2.50</td>\n",
       "      <td>16.8</td>\n",
       "      <td>113.0</td>\n",
       "      <td>3.85</td>\n",
       "      <td>3.49</td>\n",
       "      <td>0.24</td>\n",
       "      <td>2.18</td>\n",
       "      <td>7.80</td>\n",
       "      <td>0.86</td>\n",
       "      <td>3.45</td>\n",
       "      <td>1480.0</td>\n",
       "      <td>0.0</td>\n",
       "    </tr>\n",
       "    <tr>\n",
       "      <th>4</th>\n",
       "      <td>13.24</td>\n",
       "      <td>2.59</td>\n",
       "      <td>2.87</td>\n",
       "      <td>21.0</td>\n",
       "      <td>118.0</td>\n",
       "      <td>2.80</td>\n",
       "      <td>2.69</td>\n",
       "      <td>0.39</td>\n",
       "      <td>1.82</td>\n",
       "      <td>4.32</td>\n",
       "      <td>1.04</td>\n",
       "      <td>2.93</td>\n",
       "      <td>735.0</td>\n",
       "      <td>0.0</td>\n",
       "    </tr>\n",
       "    <tr>\n",
       "      <th>...</th>\n",
       "      <td>...</td>\n",
       "      <td>...</td>\n",
       "      <td>...</td>\n",
       "      <td>...</td>\n",
       "      <td>...</td>\n",
       "      <td>...</td>\n",
       "      <td>...</td>\n",
       "      <td>...</td>\n",
       "      <td>...</td>\n",
       "      <td>...</td>\n",
       "      <td>...</td>\n",
       "      <td>...</td>\n",
       "      <td>...</td>\n",
       "      <td>...</td>\n",
       "    </tr>\n",
       "    <tr>\n",
       "      <th>173</th>\n",
       "      <td>13.71</td>\n",
       "      <td>5.65</td>\n",
       "      <td>2.45</td>\n",
       "      <td>20.5</td>\n",
       "      <td>95.0</td>\n",
       "      <td>1.68</td>\n",
       "      <td>0.61</td>\n",
       "      <td>0.52</td>\n",
       "      <td>1.06</td>\n",
       "      <td>7.70</td>\n",
       "      <td>0.64</td>\n",
       "      <td>1.74</td>\n",
       "      <td>740.0</td>\n",
       "      <td>2.0</td>\n",
       "    </tr>\n",
       "    <tr>\n",
       "      <th>174</th>\n",
       "      <td>13.40</td>\n",
       "      <td>3.91</td>\n",
       "      <td>2.48</td>\n",
       "      <td>23.0</td>\n",
       "      <td>102.0</td>\n",
       "      <td>1.80</td>\n",
       "      <td>0.75</td>\n",
       "      <td>0.43</td>\n",
       "      <td>1.41</td>\n",
       "      <td>7.30</td>\n",
       "      <td>0.70</td>\n",
       "      <td>1.56</td>\n",
       "      <td>750.0</td>\n",
       "      <td>2.0</td>\n",
       "    </tr>\n",
       "    <tr>\n",
       "      <th>175</th>\n",
       "      <td>13.27</td>\n",
       "      <td>4.28</td>\n",
       "      <td>2.26</td>\n",
       "      <td>20.0</td>\n",
       "      <td>120.0</td>\n",
       "      <td>1.59</td>\n",
       "      <td>0.69</td>\n",
       "      <td>0.43</td>\n",
       "      <td>1.35</td>\n",
       "      <td>10.20</td>\n",
       "      <td>0.59</td>\n",
       "      <td>1.56</td>\n",
       "      <td>835.0</td>\n",
       "      <td>2.0</td>\n",
       "    </tr>\n",
       "    <tr>\n",
       "      <th>176</th>\n",
       "      <td>13.17</td>\n",
       "      <td>2.59</td>\n",
       "      <td>2.37</td>\n",
       "      <td>20.0</td>\n",
       "      <td>120.0</td>\n",
       "      <td>1.65</td>\n",
       "      <td>0.68</td>\n",
       "      <td>0.53</td>\n",
       "      <td>1.46</td>\n",
       "      <td>9.30</td>\n",
       "      <td>0.60</td>\n",
       "      <td>1.62</td>\n",
       "      <td>840.0</td>\n",
       "      <td>2.0</td>\n",
       "    </tr>\n",
       "    <tr>\n",
       "      <th>177</th>\n",
       "      <td>14.13</td>\n",
       "      <td>4.10</td>\n",
       "      <td>2.74</td>\n",
       "      <td>24.5</td>\n",
       "      <td>96.0</td>\n",
       "      <td>2.05</td>\n",
       "      <td>0.76</td>\n",
       "      <td>0.56</td>\n",
       "      <td>1.35</td>\n",
       "      <td>9.20</td>\n",
       "      <td>0.61</td>\n",
       "      <td>1.60</td>\n",
       "      <td>560.0</td>\n",
       "      <td>2.0</td>\n",
       "    </tr>\n",
       "  </tbody>\n",
       "</table>\n",
       "<p>178 rows × 14 columns</p>\n",
       "</div>"
      ],
      "text/plain": [
       "     alcohol  malic_acid   ash  alcalinity_of_ash  magnesium  total_phenols  \\\n",
       "0      14.23        1.71  2.43               15.6      127.0           2.80   \n",
       "1      13.20        1.78  2.14               11.2      100.0           2.65   \n",
       "2      13.16        2.36  2.67               18.6      101.0           2.80   \n",
       "3      14.37        1.95  2.50               16.8      113.0           3.85   \n",
       "4      13.24        2.59  2.87               21.0      118.0           2.80   \n",
       "..       ...         ...   ...                ...        ...            ...   \n",
       "173    13.71        5.65  2.45               20.5       95.0           1.68   \n",
       "174    13.40        3.91  2.48               23.0      102.0           1.80   \n",
       "175    13.27        4.28  2.26               20.0      120.0           1.59   \n",
       "176    13.17        2.59  2.37               20.0      120.0           1.65   \n",
       "177    14.13        4.10  2.74               24.5       96.0           2.05   \n",
       "\n",
       "     flavanoids  nonflavanoid_phenols  proanthocyanins  color_intensity   hue  \\\n",
       "0          3.06                  0.28             2.29             5.64  1.04   \n",
       "1          2.76                  0.26             1.28             4.38  1.05   \n",
       "2          3.24                  0.30             2.81             5.68  1.03   \n",
       "3          3.49                  0.24             2.18             7.80  0.86   \n",
       "4          2.69                  0.39             1.82             4.32  1.04   \n",
       "..          ...                   ...              ...              ...   ...   \n",
       "173        0.61                  0.52             1.06             7.70  0.64   \n",
       "174        0.75                  0.43             1.41             7.30  0.70   \n",
       "175        0.69                  0.43             1.35            10.20  0.59   \n",
       "176        0.68                  0.53             1.46             9.30  0.60   \n",
       "177        0.76                  0.56             1.35             9.20  0.61   \n",
       "\n",
       "     od280/od315_of_diluted_wines  proline  target  \n",
       "0                            3.92   1065.0     0.0  \n",
       "1                            3.40   1050.0     0.0  \n",
       "2                            3.17   1185.0     0.0  \n",
       "3                            3.45   1480.0     0.0  \n",
       "4                            2.93    735.0     0.0  \n",
       "..                            ...      ...     ...  \n",
       "173                          1.74    740.0     2.0  \n",
       "174                          1.56    750.0     2.0  \n",
       "175                          1.56    835.0     2.0  \n",
       "176                          1.62    840.0     2.0  \n",
       "177                          1.60    560.0     2.0  \n",
       "\n",
       "[178 rows x 14 columns]"
      ]
     },
     "execution_count": 2,
     "metadata": {},
     "output_type": "execute_result"
    }
   ],
   "source": [
    "wines = load_wine()\n",
    "df = pd.DataFrame(data= np.c_[wines['data'], wines['target']],\n",
    "                     columns= wines['feature_names'] + ['target'])\n",
    "df"
   ]
  },
  {
   "cell_type": "markdown",
   "metadata": {},
   "source": [
    "# Visualisation du Dataset"
   ]
  },
  {
   "cell_type": "code",
   "execution_count": 3,
   "metadata": {
    "ExecuteTime": {
     "end_time": "2021-12-09T08:58:04.599871Z",
     "start_time": "2021-12-09T08:58:04.488288Z"
    }
   },
   "outputs": [
    {
     "name": "stdout",
     "output_type": "stream",
     "text": [
      "\n",
      "    Longueur du dataset : 178 enregistrements\n",
      "    Nombre de colonnes : 14\n",
      "    \n"
     ]
    },
    {
     "data": {
      "text/html": [
       "<div>\n",
       "<style scoped>\n",
       "    .dataframe tbody tr th:only-of-type {\n",
       "        vertical-align: middle;\n",
       "    }\n",
       "\n",
       "    .dataframe tbody tr th {\n",
       "        vertical-align: top;\n",
       "    }\n",
       "\n",
       "    .dataframe thead th {\n",
       "        text-align: right;\n",
       "    }\n",
       "</style>\n",
       "<table border=\"1\" class=\"dataframe\">\n",
       "  <thead>\n",
       "    <tr style=\"text-align: right;\">\n",
       "      <th></th>\n",
       "      <th>type</th>\n",
       "      <th>Echantillon</th>\n",
       "      <th>% de valeurs nulles</th>\n",
       "      <th>nb de valeurs uniques</th>\n",
       "    </tr>\n",
       "  </thead>\n",
       "  <tbody>\n",
       "    <tr>\n",
       "      <th>alcohol</th>\n",
       "      <td>float64</td>\n",
       "      <td>[14.23, 13.2, 13.16, 14.37, 13.24]</td>\n",
       "      <td>0.0</td>\n",
       "      <td>126</td>\n",
       "    </tr>\n",
       "    <tr>\n",
       "      <th>malic_acid</th>\n",
       "      <td>float64</td>\n",
       "      <td>[1.71, 1.78, 2.36, 1.95, 2.59]</td>\n",
       "      <td>0.0</td>\n",
       "      <td>133</td>\n",
       "    </tr>\n",
       "    <tr>\n",
       "      <th>ash</th>\n",
       "      <td>float64</td>\n",
       "      <td>[2.43, 2.14, 2.67, 2.5, 2.87]</td>\n",
       "      <td>0.0</td>\n",
       "      <td>79</td>\n",
       "    </tr>\n",
       "    <tr>\n",
       "      <th>alcalinity_of_ash</th>\n",
       "      <td>float64</td>\n",
       "      <td>[15.6, 11.2, 18.6, 16.8, 21.0]</td>\n",
       "      <td>0.0</td>\n",
       "      <td>63</td>\n",
       "    </tr>\n",
       "    <tr>\n",
       "      <th>magnesium</th>\n",
       "      <td>float64</td>\n",
       "      <td>[127.0, 100.0, 101.0, 113.0, 118.0]</td>\n",
       "      <td>0.0</td>\n",
       "      <td>53</td>\n",
       "    </tr>\n",
       "    <tr>\n",
       "      <th>total_phenols</th>\n",
       "      <td>float64</td>\n",
       "      <td>[2.8, 2.65, 2.8, 3.85, 2.8]</td>\n",
       "      <td>0.0</td>\n",
       "      <td>97</td>\n",
       "    </tr>\n",
       "    <tr>\n",
       "      <th>flavanoids</th>\n",
       "      <td>float64</td>\n",
       "      <td>[3.06, 2.76, 3.24, 3.49, 2.69]</td>\n",
       "      <td>0.0</td>\n",
       "      <td>132</td>\n",
       "    </tr>\n",
       "    <tr>\n",
       "      <th>nonflavanoid_phenols</th>\n",
       "      <td>float64</td>\n",
       "      <td>[0.28, 0.26, 0.3, 0.24, 0.39]</td>\n",
       "      <td>0.0</td>\n",
       "      <td>39</td>\n",
       "    </tr>\n",
       "    <tr>\n",
       "      <th>proanthocyanins</th>\n",
       "      <td>float64</td>\n",
       "      <td>[2.29, 1.28, 2.81, 2.18, 1.82]</td>\n",
       "      <td>0.0</td>\n",
       "      <td>101</td>\n",
       "    </tr>\n",
       "    <tr>\n",
       "      <th>color_intensity</th>\n",
       "      <td>float64</td>\n",
       "      <td>[5.64, 4.38, 5.68, 7.8, 4.32]</td>\n",
       "      <td>0.0</td>\n",
       "      <td>132</td>\n",
       "    </tr>\n",
       "    <tr>\n",
       "      <th>hue</th>\n",
       "      <td>float64</td>\n",
       "      <td>[1.04, 1.05, 1.03, 0.86, 1.04]</td>\n",
       "      <td>0.0</td>\n",
       "      <td>78</td>\n",
       "    </tr>\n",
       "    <tr>\n",
       "      <th>od280/od315_of_diluted_wines</th>\n",
       "      <td>float64</td>\n",
       "      <td>[3.92, 3.4, 3.17, 3.45, 2.93]</td>\n",
       "      <td>0.0</td>\n",
       "      <td>122</td>\n",
       "    </tr>\n",
       "    <tr>\n",
       "      <th>proline</th>\n",
       "      <td>float64</td>\n",
       "      <td>[1065.0, 1050.0, 1185.0, 1480.0, 735.0]</td>\n",
       "      <td>0.0</td>\n",
       "      <td>121</td>\n",
       "    </tr>\n",
       "    <tr>\n",
       "      <th>target</th>\n",
       "      <td>float64</td>\n",
       "      <td>[0.0, 0.0, 0.0, 0.0, 0.0]</td>\n",
       "      <td>0.0</td>\n",
       "      <td>3</td>\n",
       "    </tr>\n",
       "  </tbody>\n",
       "</table>\n",
       "</div>"
      ],
      "text/plain": [
       "                                 type  \\\n",
       "alcohol                       float64   \n",
       "malic_acid                    float64   \n",
       "ash                           float64   \n",
       "alcalinity_of_ash             float64   \n",
       "magnesium                     float64   \n",
       "total_phenols                 float64   \n",
       "flavanoids                    float64   \n",
       "nonflavanoid_phenols          float64   \n",
       "proanthocyanins               float64   \n",
       "color_intensity               float64   \n",
       "hue                           float64   \n",
       "od280/od315_of_diluted_wines  float64   \n",
       "proline                       float64   \n",
       "target                        float64   \n",
       "\n",
       "                                                          Echantillon  \\\n",
       "alcohol                            [14.23, 13.2, 13.16, 14.37, 13.24]   \n",
       "malic_acid                             [1.71, 1.78, 2.36, 1.95, 2.59]   \n",
       "ash                                     [2.43, 2.14, 2.67, 2.5, 2.87]   \n",
       "alcalinity_of_ash                      [15.6, 11.2, 18.6, 16.8, 21.0]   \n",
       "magnesium                         [127.0, 100.0, 101.0, 113.0, 118.0]   \n",
       "total_phenols                             [2.8, 2.65, 2.8, 3.85, 2.8]   \n",
       "flavanoids                             [3.06, 2.76, 3.24, 3.49, 2.69]   \n",
       "nonflavanoid_phenols                    [0.28, 0.26, 0.3, 0.24, 0.39]   \n",
       "proanthocyanins                        [2.29, 1.28, 2.81, 2.18, 1.82]   \n",
       "color_intensity                         [5.64, 4.38, 5.68, 7.8, 4.32]   \n",
       "hue                                    [1.04, 1.05, 1.03, 0.86, 1.04]   \n",
       "od280/od315_of_diluted_wines            [3.92, 3.4, 3.17, 3.45, 2.93]   \n",
       "proline                       [1065.0, 1050.0, 1185.0, 1480.0, 735.0]   \n",
       "target                                      [0.0, 0.0, 0.0, 0.0, 0.0]   \n",
       "\n",
       "                              % de valeurs nulles  nb de valeurs uniques  \n",
       "alcohol                                       0.0                    126  \n",
       "malic_acid                                    0.0                    133  \n",
       "ash                                           0.0                     79  \n",
       "alcalinity_of_ash                             0.0                     63  \n",
       "magnesium                                     0.0                     53  \n",
       "total_phenols                                 0.0                     97  \n",
       "flavanoids                                    0.0                    132  \n",
       "nonflavanoid_phenols                          0.0                     39  \n",
       "proanthocyanins                               0.0                    101  \n",
       "color_intensity                               0.0                    132  \n",
       "hue                                           0.0                     78  \n",
       "od280/od315_of_diluted_wines                  0.0                    122  \n",
       "proline                                       0.0                    121  \n",
       "target                                        0.0                      3  "
      ]
     },
     "execution_count": 3,
     "metadata": {},
     "output_type": "execute_result"
    }
   ],
   "source": [
    "def df_info(df):\n",
    "    len_df = len(df)\n",
    "    all_columns = len(df.columns)\n",
    "    all_nan = df.isna().sum().sum()\n",
    "\n",
    "    print(f\"\"\"\n",
    "    Longueur du dataset : {len_df} enregistrements\n",
    "    Nombre de colonnes : {all_columns}\n",
    "    \"\"\")\n",
    "\n",
    "    echantillonColonnes = []\n",
    "    for i in df.columns:\n",
    "        listcolumn = str(list(df[i].head(5)))\n",
    "        echantillonColonnes.append(listcolumn)\n",
    "        echantillonColonnes[0:5]\n",
    "    obs = pd.DataFrame({'type': list(df.dtypes),\n",
    "                        'Echantillon': echantillonColonnes,\n",
    "                        \"% de valeurs nulles\":\n",
    "                        round(df.isna().sum() / len_df * 100, 2),\n",
    "                        \"nb de valeurs uniques\":df.nunique()\n",
    "                       })\n",
    "    return obs\n",
    "df_info(df)"
   ]
  },
  {
   "cell_type": "markdown",
   "metadata": {
    "ExecuteTime": {
     "end_time": "2021-12-08T15:44:06.451331Z",
     "start_time": "2021-12-08T15:44:06.435597Z"
    }
   },
   "source": [
    "# Creation des X et y"
   ]
  },
  {
   "cell_type": "code",
   "execution_count": 4,
   "metadata": {
    "ExecuteTime": {
     "end_time": "2021-12-09T08:58:04.613427Z",
     "start_time": "2021-12-09T08:58:04.605898Z"
    }
   },
   "outputs": [],
   "source": [
    "X = df.drop('target', axis = 1)\n",
    "y = df['target']"
   ]
  },
  {
   "cell_type": "markdown",
   "metadata": {},
   "source": [
    "# Recherche des Modèles pertinents"
   ]
  },
  {
   "cell_type": "code",
   "execution_count": 5,
   "metadata": {
    "ExecuteTime": {
     "end_time": "2021-12-09T08:58:04.632146Z",
     "start_time": "2021-12-09T08:58:04.617994Z"
    }
   },
   "outputs": [],
   "source": [
    "def test_model(models):\n",
    "    for model in models:\n",
    "        final_model = make_pipeline(StandardScaler(), model)\n",
    "        print(f\"model : {model} => {cross_val_score(final_model, X, y, cv=5).mean()}\")"
   ]
  },
  {
   "cell_type": "code",
   "execution_count": 6,
   "metadata": {
    "ExecuteTime": {
     "end_time": "2021-12-09T08:58:08.991022Z",
     "start_time": "2021-12-09T08:58:04.662053Z"
    }
   },
   "outputs": [
    {
     "name": "stdout",
     "output_type": "stream",
     "text": [
      "model : LogisticRegression() => 0.9831746031746033\n",
      "model : SGDClassifier() => 0.9661904761904762\n",
      "model : RandomForestClassifier() => 0.9665079365079364\n",
      "model : GaussianNB() => 0.9663492063492063\n",
      "model : LinearSVC() => 0.9776190476190475\n",
      "model : KNeighborsClassifier(n_neighbors=10) => 0.9552380952380952\n",
      "model : StackingClassifier(estimators=[('model_1', LogisticRegression()),\n",
      "                               ('model_2', LogisticRegression())],\n",
      "                   final_estimator=LogisticRegression()) => 0.9831746031746033\n",
      "model : AdaBoostClassifier() => 0.8085714285714285\n",
      "model : GradientBoostingClassifier() => 0.9385714285714286\n"
     ]
    }
   ],
   "source": [
    "a = [\n",
    "    LogisticRegression(), \n",
    "    SGDClassifier(),  \n",
    "    RandomForestClassifier(n_estimators=100),\n",
    "    GaussianNB(),\n",
    "    LinearSVC(),\n",
    "    KNeighborsClassifier(n_neighbors=10),\n",
    "    StackingClassifier([\n",
    "            ('model_1', LogisticRegression()),('model_2', LogisticRegression())\n",
    "        ], final_estimator=LogisticRegression()),\n",
    "    AdaBoostClassifier(),\n",
    "    GradientBoostingClassifier()\n",
    "]\n",
    "\n",
    "test_model(a)"
   ]
  },
  {
   "cell_type": "markdown",
   "metadata": {},
   "source": [
    "# Initiation du Modèle"
   ]
  },
  {
   "cell_type": "code",
   "execution_count": 7,
   "metadata": {
    "ExecuteTime": {
     "end_time": "2021-12-09T08:58:08.999780Z",
     "start_time": "2021-12-09T08:58:08.994221Z"
    }
   },
   "outputs": [],
   "source": [
    "model = LogisticRegression()"
   ]
  },
  {
   "cell_type": "code",
   "execution_count": 8,
   "metadata": {
    "ExecuteTime": {
     "end_time": "2021-12-09T08:58:09.029028Z",
     "start_time": "2021-12-09T08:58:09.016417Z"
    }
   },
   "outputs": [],
   "source": [
    "final_model = make_pipeline(StandardScaler(), model)"
   ]
  },
  {
   "cell_type": "markdown",
   "metadata": {},
   "source": [
    "# Mesure du modèle"
   ]
  },
  {
   "cell_type": "code",
   "execution_count": 9,
   "metadata": {
    "ExecuteTime": {
     "end_time": "2021-12-09T08:58:09.046309Z",
     "start_time": "2021-12-09T08:58:09.039222Z"
    }
   },
   "outputs": [],
   "source": [
    "X_train, X_test,y_train, y_test = train_test_split(\n",
    "                X, y, test_size=0.33, random_state=42)"
   ]
  },
  {
   "cell_type": "code",
   "execution_count": 10,
   "metadata": {
    "ExecuteTime": {
     "end_time": "2021-12-09T08:58:09.092131Z",
     "start_time": "2021-12-09T08:58:09.051495Z"
    }
   },
   "outputs": [
    {
     "data": {
      "text/plain": [
       "array([[20,  0,  0],\n",
       "       [ 0, 23,  1],\n",
       "       [ 0,  0, 15]])"
      ]
     },
     "execution_count": 10,
     "metadata": {},
     "output_type": "execute_result"
    }
   ],
   "source": [
    "final_model.fit(X_train, y_train)\n",
    "prediction = final_model.predict(X_test)\n",
    "accuracy_score(y_test, prediction)\n",
    "\n",
    "\n",
    "confusion_matrix (y_test, prediction)"
   ]
  },
  {
   "cell_type": "code",
   "execution_count": 11,
   "metadata": {
    "ExecuteTime": {
     "end_time": "2021-12-09T08:58:09.102435Z",
     "start_time": "2021-12-09T08:58:09.097903Z"
    }
   },
   "outputs": [],
   "source": [
    "#num = X.columns\n",
    "#preprocess = make_column_transformer((StandardScaler(),num))"
   ]
  },
  {
   "cell_type": "markdown",
   "metadata": {},
   "source": [
    "# Entraînement"
   ]
  },
  {
   "cell_type": "code",
   "execution_count": 12,
   "metadata": {
    "ExecuteTime": {
     "end_time": "2021-12-09T08:58:09.143637Z",
     "start_time": "2021-12-09T08:58:09.110874Z"
    }
   },
   "outputs": [],
   "source": [
    "final_model = make_pipeline(StandardScaler(), model)\n",
    "fit_model = final_model.fit(X, y)"
   ]
  },
  {
   "cell_type": "markdown",
   "metadata": {},
   "source": [
    "# Prédiction simple"
   ]
  },
  {
   "cell_type": "code",
   "execution_count": 13,
   "metadata": {
    "ExecuteTime": {
     "end_time": "2021-12-09T08:58:09.171282Z",
     "start_time": "2021-12-09T08:58:09.153494Z"
    }
   },
   "outputs": [
    {
     "name": "stdout",
     "output_type": "stream",
     "text": [
      "alcohol =                             #min = 11.03 et max = 14.83\n",
      "malic_acid =                             #min = 0.74 et max = 5.8\n",
      "ash =                             #min = 1.36 et max = 3.23\n",
      "alcalinity_of_ash =                             #min = 10.6 et max = 30.0\n",
      "magnesium =                             #min = 70.0 et max = 162.0\n",
      "total_phenols =                             #min = 0.98 et max = 3.88\n",
      "flavanoids =                             #min = 0.34 et max = 5.08\n",
      "nonflavanoid_phenols =                             #min = 0.13 et max = 0.66\n",
      "proanthocyanins =                             #min = 0.41 et max = 3.58\n",
      "color_intensity =                             #min = 1.28 et max = 13.0\n",
      "hue =                             #min = 0.48 et max = 1.71\n",
      "od280/od315_of_diluted_wines =                             #min = 1.27 et max = 4.0\n",
      "proline =                             #min = 278.0 et max = 1680.0\n"
     ]
    }
   ],
   "source": [
    "for i in X.columns:\n",
    "    print(f\"{i} =                             #min = {X[i].min()} et max = {X[i].max()}\")"
   ]
  },
  {
   "cell_type": "code",
   "execution_count": 14,
   "metadata": {
    "ExecuteTime": {
     "end_time": "2021-12-09T08:58:09.189410Z",
     "start_time": "2021-12-09T08:58:09.175395Z"
    }
   },
   "outputs": [],
   "source": [
    "alcohol = 13.56                       #min = 11.03 et max = 14.83\n",
    "malic_acid = 1.71                     #min = 0.74 et max = 5.8\n",
    "ash = 2.31                            #min = 1.36 et max = 3.23\n",
    "alcalinity_of_ash = 16                #min = 10.6 et max = 30.0\n",
    "magnesium = 117.0                     #min = 70.0 et max = 162.0\n",
    "total_phenols = 3.1                   #min = 0.98 et max = 3.88\n",
    "flavanoids = 3.29                     #min = 0.34 et max = 5.08\n",
    "nonflavanoid_phenols = 0.34           #min = 0.13 et max = 0.66\n",
    "proanthocyanins = 2.3                 #min = 0.41 et max = 3.58\n",
    "color_intensity = 6.13                #min = 1.28 et max = 13.0\n",
    "hue =  0.95                           #min = 0.48 et max = 1.71\n",
    "od280_od315_of_diluted_wines = 3.38   #min = 1.27 et max = 4.0\n",
    "proline = 795.0                       #min = 278.0 et max = 1680.0"
   ]
  },
  {
   "cell_type": "code",
   "execution_count": 15,
   "metadata": {
    "ExecuteTime": {
     "end_time": "2021-12-09T08:58:09.238448Z",
     "start_time": "2021-12-09T08:58:09.195895Z"
    }
   },
   "outputs": [
    {
     "data": {
      "text/plain": [
       "array([0.])"
      ]
     },
     "execution_count": 15,
     "metadata": {},
     "output_type": "execute_result"
    }
   ],
   "source": [
    "a = pd.DataFrame([[alcohol, malic_acid, ash, alcalinity_of_ash, magnesium,\n",
    "       total_phenols, flavanoids, nonflavanoid_phenols,\n",
    "       proanthocyanins, color_intensity, hue,\n",
    "       od280_od315_of_diluted_wines, proline ]])\n",
    "\n",
    "fit_model.predict(a)"
   ]
  },
  {
   "cell_type": "markdown",
   "metadata": {},
   "source": [
    "# Sauvegarde et Chargement "
   ]
  },
  {
   "cell_type": "code",
   "execution_count": 16,
   "metadata": {
    "ExecuteTime": {
     "end_time": "2021-12-09T08:58:09.276456Z",
     "start_time": "2021-12-09T08:58:09.259061Z"
    }
   },
   "outputs": [],
   "source": [
    "def save_model(fit_model, name):\n",
    "        #---------------------------------------------------------\n",
    "        \"\"\" • Save model fitted\n",
    "            • Return None\"\"\"\n",
    "        #---------------------------------------------------------\n",
    "        path = os.path.abspath('')\n",
    "        dump(fit_model, f\"{path}/{name}\")\n",
    "\n",
    "def load_model(name):\n",
    "    #---------------------------------------------------------\n",
    "    \"\"\" • Load model fitted\n",
    "        • Return Model\"\"\"\n",
    "    #---------------------------------------------------------\n",
    "    \n",
    "    path = os.path.abspath('')\n",
    "    model = load(f\"{path}/{name}\")\n",
    "    return model"
   ]
  },
  {
   "cell_type": "code",
   "execution_count": 17,
   "metadata": {
    "ExecuteTime": {
     "end_time": "2021-12-09T08:58:09.300900Z",
     "start_time": "2021-12-09T08:58:09.284805Z"
    }
   },
   "outputs": [],
   "source": [
    "save_model(fit_model, 'wine_fit')"
   ]
  },
  {
   "cell_type": "code",
   "execution_count": 18,
   "metadata": {
    "ExecuteTime": {
     "end_time": "2021-12-09T08:58:09.367471Z",
     "start_time": "2021-12-09T08:58:09.307448Z"
    }
   },
   "outputs": [],
   "source": [
    "fitness = load_model('wine_fit')"
   ]
  },
  {
   "cell_type": "code",
   "execution_count": 19,
   "metadata": {
    "ExecuteTime": {
     "end_time": "2021-12-09T08:58:09.384669Z",
     "start_time": "2021-12-09T08:58:09.371356Z"
    }
   },
   "outputs": [
    {
     "data": {
      "text/plain": [
       "array([0.])"
      ]
     },
     "execution_count": 19,
     "metadata": {},
     "output_type": "execute_result"
    }
   ],
   "source": [
    "fitness.predict(a)"
   ]
  },
  {
   "cell_type": "markdown",
   "metadata": {},
   "source": [
    "# Création de la classe"
   ]
  },
  {
   "cell_type": "code",
   "execution_count": 20,
   "metadata": {
    "ExecuteTime": {
     "end_time": "2021-12-09T08:58:09.409067Z",
     "start_time": "2021-12-09T08:58:09.389910Z"
    }
   },
   "outputs": [],
   "source": [
    "class Wine :\n",
    "    def __init__(self):\n",
    "        wines = load_wine()\n",
    "        \n",
    "        self.df = pd.DataFrame(data= np.c_[wines['data'], wines['target']],\n",
    "                     columns= wines['feature_names'] + ['target'])\n",
    "        self.X = self.df.drop('target', axis = 1)\n",
    "        self.parameters = [[X[i].min(), X[i].max(), i] for i in self.X.columns]\n",
    "\n",
    "wine = Wine()"
   ]
  },
  {
   "cell_type": "code",
   "execution_count": 21,
   "metadata": {
    "ExecuteTime": {
     "end_time": "2021-12-09T08:58:09.430493Z",
     "start_time": "2021-12-09T08:58:09.414859Z"
    }
   },
   "outputs": [
    {
     "data": {
      "text/plain": [
       "[[11.03, 14.83, 'alcohol'],\n",
       " [0.74, 5.8, 'malic_acid'],\n",
       " [1.36, 3.23, 'ash'],\n",
       " [10.6, 30.0, 'alcalinity_of_ash'],\n",
       " [70.0, 162.0, 'magnesium'],\n",
       " [0.98, 3.88, 'total_phenols'],\n",
       " [0.34, 5.08, 'flavanoids'],\n",
       " [0.13, 0.66, 'nonflavanoid_phenols'],\n",
       " [0.41, 3.58, 'proanthocyanins'],\n",
       " [1.28, 13.0, 'color_intensity'],\n",
       " [0.48, 1.71, 'hue'],\n",
       " [1.27, 4.0, 'od280/od315_of_diluted_wines'],\n",
       " [278.0, 1680.0, 'proline']]"
      ]
     },
     "execution_count": 21,
     "metadata": {},
     "output_type": "execute_result"
    }
   ],
   "source": [
    "wine.parameters"
   ]
  }
 ],
 "metadata": {
  "hide_input": false,
  "interpreter": {
   "hash": "ada9927a3573b34705b6e45205ce3ebffeca19417e9bab493237c947fe8c5d15"
  },
  "kernelspec": {
   "display_name": "Python 3",
   "language": "python",
   "name": "python3"
  },
  "language_info": {
   "codemirror_mode": {
    "name": "ipython",
    "version": 3
   },
   "file_extension": ".py",
   "mimetype": "text/x-python",
   "name": "python",
   "nbconvert_exporter": "python",
   "pygments_lexer": "ipython3",
   "version": "3.8.10"
  },
  "toc": {
   "base_numbering": 1,
   "nav_menu": {},
   "number_sections": false,
   "sideBar": true,
   "skip_h1_title": false,
   "title_cell": "Table of Contents",
   "title_sidebar": "Contents",
   "toc_cell": false,
   "toc_position": {},
   "toc_section_display": true,
   "toc_window_display": false
  },
  "varInspector": {
   "cols": {
    "lenName": 16,
    "lenType": 16,
    "lenVar": 40
   },
   "kernels_config": {
    "python": {
     "delete_cmd_postfix": "",
     "delete_cmd_prefix": "del ",
     "library": "var_list.py",
     "varRefreshCmd": "print(var_dic_list())"
    },
    "r": {
     "delete_cmd_postfix": ") ",
     "delete_cmd_prefix": "rm(",
     "library": "var_list.r",
     "varRefreshCmd": "cat(var_dic_list()) "
    }
   },
   "types_to_exclude": [
    "module",
    "function",
    "builtin_function_or_method",
    "instance",
    "_Feature"
   ],
   "window_display": false
  }
 },
 "nbformat": 4,
 "nbformat_minor": 2
}
